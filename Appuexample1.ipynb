{
 "cells": [
  {
   "cell_type": "code",
   "execution_count": 1,
   "id": "2de5b27e",
   "metadata": {},
   "outputs": [
    {
     "data": {
      "text/plain": [
       "4"
      ]
     },
     "execution_count": 1,
     "metadata": {},
     "output_type": "execute_result"
    }
   ],
   "source": [
    "1+3"
   ]
  },
  {
   "cell_type": "raw",
   "id": "3039c3f7",
   "metadata": {},
   "source": [
    "200000+500000"
   ]
  },
  {
   "cell_type": "code",
   "execution_count": 5,
   "id": "b01803d3",
   "metadata": {},
   "outputs": [
    {
     "data": {
      "text/plain": [
       "'/home/ashwath'"
      ]
     },
     "execution_count": 5,
     "metadata": {},
     "output_type": "execute_result"
    }
   ],
   "source": [
    "pwd"
   ]
  },
  {
   "cell_type": "raw",
   "id": "1a5df140",
   "metadata": {},
   "source": [
    "axyuajjxhjx\n",
    "asxax\n",
    "axasxsa\n",
    "axsxsax"
   ]
  },
  {
   "cell_type": "code",
   "execution_count": null,
   "id": "8fadd2cc",
   "metadata": {},
   "outputs": [],
   "source": []
  }
 ],
 "metadata": {
  "kernelspec": {
   "display_name": "Python 3 (ipykernel)",
   "language": "python",
   "name": "python3"
  },
  "language_info": {
   "codemirror_mode": {
    "name": "ipython",
    "version": 3
   },
   "file_extension": ".py",
   "mimetype": "text/x-python",
   "name": "python",
   "nbconvert_exporter": "python",
   "pygments_lexer": "ipython3",
   "version": "3.7.11"
  }
 },
 "nbformat": 4,
 "nbformat_minor": 5
}
